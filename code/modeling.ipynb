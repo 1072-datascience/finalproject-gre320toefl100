{
 "cells": [
  {
   "cell_type": "code",
   "execution_count": 1,
   "metadata": {
    "collapsed": true
   },
   "outputs": [],
   "source": [
    "import pandas as pd\n",
    "import numpy as np\n",
    "import sklearn\n",
    "import matplotlib.pyplot as plt\n",
    "import seaborn as sns\n",
    "\n",
    "from sklearn import linear_model\n",
    "from sklearn.ensemble import RandomForestRegressor\n",
    "import xgboost as xgb\n",
    "\n",
    "from sklearn.metrics import mean_squared_error\n",
    "from math import sqrt\n",
    "\n",
    "%matplotlib inline\n",
    "\n",
    "use_last_year_salary = False\n",
    "with_log_transformation = False"
   ]
  },
  {
   "cell_type": "code",
   "execution_count": 2,
   "metadata": {
    "collapsed": true
   },
   "outputs": [],
   "source": [
    "df = pd.read_csv(\"../data/all_data.csv\")\n",
    "\n",
    "# remove observations with 0 last_year_salary\n",
    "df[['Salary']] = df[['Salary']].replace(0, np.nan)\n",
    "if use_last_year_salary:\n",
    "    df[['last_year_salary']] = df[['last_year_salary']].replace(0, np.nan)\n",
    "df = df.dropna()"
   ]
  },
  {
   "cell_type": "code",
   "execution_count": 3,
   "metadata": {
    "collapsed": true,
    "scrolled": true
   },
   "outputs": [],
   "source": [
    "# one-hot encoding for Position\n",
    "df = df.join(pd.get_dummies(df['Pos']))"
   ]
  },
  {
   "cell_type": "code",
   "execution_count": 4,
   "metadata": {},
   "outputs": [
    {
     "data": {
      "text/plain": [
       "<matplotlib.axes._subplots.AxesSubplot at 0x10590e780>"
      ]
     },
     "execution_count": 4,
     "metadata": {},
     "output_type": "execute_result"
    },
    {
     "data": {
      "image/png": "[encoded data removed]",
      "text/plain": [
       "<Figure size 432x288 with 1 Axes>"
      ]
     },
     "metadata": {},
     "output_type": "display_data"
    }
   ],
   "source": [
    "sns.distplot(df['Salary'])"
   ]
  },
  {
   "cell_type": "code",
   "execution_count": 5,
   "metadata": {
    "collapsed": true,
    "scrolled": true
   },
   "outputs": [],
   "source": [
    "if with_log_transformation:\n",
    "    df['Salary'] = np.log(df['Salary'])\n",
    "    df['salary_limit'] = np.log(df['salary_limit'])"
   ]
  },
  {
   "cell_type": "code",
   "execution_count": 6,
   "metadata": {},
   "outputs": [
    {
     "data": {
      "text/plain": [
       "<matplotlib.axes._subplots.AxesSubplot at 0x10dd35ef0>"
      ]
     },
     "execution_count": 6,
     "metadata": {},
     "output_type": "execute_result"
    },
    {
     "data": {
      "image/png": "[encoded data removed]",
      "text/plain": [
       "<Figure size 432x288 with 1 Axes>"
      ]
     },
     "metadata": {},
     "output_type": "display_data"
    }
   ],
   "source": [
    "sns.distplot(df['Salary'])"
   ]
  },
  {
   "cell_type": "code",
   "execution_count": 7,
   "metadata": {},
   "outputs": [
    {
     "name": "stderr",
     "output_type": "stream",
     "text": [
      "/usr/local/lib/python3.6/site-packages/scipy/linalg/basic.py:1226: RuntimeWarning: internal gelsd driver lwork query error, required iwork dimension not returned. This is likely the result of LAPACK bug 0038, fixed in LAPACK 3.2.2 (released July 21, 2010). Falling back to 'gelss' driver.\n",
      "  warnings.warn(mesg, RuntimeWarning)\n"
     ]
    }
   ],
   "source": [
    "\n",
    "features = [\"Age\",\n",
    "            \"Game\",\n",
    "            \"GS\",\n",
    "            \"3P%\",\n",
    "            \"FT%\",\n",
    "            \"STL\",\n",
    "            \"PER\",\n",
    "            \"TS%\",\n",
    "            \"ORB%\",\n",
    "            \"TRB%\",\n",
    "            \"AST%\",\n",
    "            \"STL%\",\n",
    "            \"BLK%\",\n",
    "            \"TOV%\",\n",
    "            \"USG%\",\n",
    "            \"VORP\",\n",
    "            \"EFF\",\n",
    "            \"GmSc\",\n",
    "            \"salary_limit\",\n",
    "            \"C\",\n",
    "            \"F\",\n",
    "            \"G\",\n",
    "            #\"F-C\",\n",
    "           ] + ([\"last_year_salary\"] if use_last_year_salary else [])\n",
    "  \n",
    "def lr_method():\n",
    "    df_train, df_test = sklearn.model_selection.train_test_split(df, test_size=0.25)\n",
    "\n",
    "    lm = linear_model.LinearRegression()\n",
    "    model = lm.fit(pd.DataFrame(df_train, columns=features),\n",
    "                   pd.DataFrame(df_train, columns=[\"Salary\"]))\n",
    "    \n",
    "    return sqrt(mean_squared_error(\n",
    "            pd.DataFrame(df_test, columns=[\"Salary\"]),\n",
    "            lm.predict(pd.DataFrame(df_test, columns=features))\n",
    "           ))\n",
    "    #print(\"test RMSE: \", sqrt(\n",
    "    #    mean_squared_error(\n",
    "    #        pd.DataFrame(df_test, columns=[\"Salary\"]),\n",
    "    #        lm.predict(pd.DataFrame(df_test, columns=features))\n",
    "    #    )))\n",
    "\n",
    "results = [lr_method() for _ in range(2000)]\n"
   ]
  },
  {
   "cell_type": "code",
   "execution_count": 8,
   "metadata": {},
   "outputs": [
    {
     "name": "stdout",
     "output_type": "stream",
     "text": [
      "mean cv error:  4726817.75547\n"
     ]
    },
    {
     "data": {
      "image/png": "[encoded data removed]",
      "text/plain": [
       "<Figure size 432x288 with 1 Axes>"
      ]
     },
     "metadata": {},
     "output_type": "display_data"
    }
   ],
   "source": [
    "plt.hist(results)\n",
    "lr_result_mean = np.mean(results)\n",
    "print(\"mean cv error: \", lr_result_mean)"
   ]
  },
  {
   "cell_type": "code",
   "execution_count": 9,
   "metadata": {
    "collapsed": true
   },
   "outputs": [],
   "source": [
    "\n",
    "# @param msl: minimum number of samples to form a leaf\n",
    "#             because RF tends to overfit we need to tune this parameter\n",
    "def runRF(n_e, msl = 1):\n",
    "    df_train, df_test = sklearn.model_selection.train_test_split(df, test_size=0.25)\n",
    "    regr = RandomForestRegressor(n_estimators=n_e, n_jobs = -1, min_samples_leaf = msl)\n",
    "    regr.fit(pd.DataFrame(df_train, columns=features),\n",
    "             np.ravel(pd.DataFrame(df_train, columns=[\"Salary\"])))\n",
    "    return sqrt(mean_squared_error(regr.predict(pd.DataFrame(df_test, columns=features)),\n",
    "                              pd.DataFrame(df_test, columns=['Salary'])\n",
    "                             ))\n"
   ]
  },
  {
   "cell_type": "markdown",
   "metadata": {},
   "source": [
    "此步驟將會耗時約半小時"
   ]
  },
  {
   "cell_type": "code",
   "execution_count": 10,
   "metadata": {
    "collapsed": true
   },
   "outputs": [],
   "source": [
    "rf_results1 = [runRF(100) for _ in range(800)]"
   ]
  },
  {
   "cell_type": "code",
   "execution_count": 11,
   "metadata": {
    "scrolled": true
   },
   "outputs": [
    {
     "name": "stdout",
     "output_type": "stream",
     "text": [
      "4545120.10289\n"
     ]
    },
    {
     "data": {
      "image/png": "[encoded data removed]",
      "text/plain": [
       "<Figure size 432x288 with 1 Axes>"
      ]
     },
     "metadata": {},
     "output_type": "display_data"
    }
   ],
   "source": [
    "plt.hist(rf_results1)\n",
    "print(np.mean(rf_results1))"
   ]
  },
  {
   "cell_type": "markdown",
   "metadata": {},
   "source": [
    "此步驟將會耗時約半小時"
   ]
  },
  {
   "cell_type": "code",
   "execution_count": 12,
   "metadata": {
    "collapsed": true
   },
   "outputs": [],
   "source": [
    "rf_results2 = [runRF(100, 2) for _ in range(800)]"
   ]
  },
  {
   "cell_type": "code",
   "execution_count": 13,
   "metadata": {
    "scrolled": true
   },
   "outputs": [
    {
     "name": "stdout",
     "output_type": "stream",
     "text": [
      "4523710.07226\n"
     ]
    },
    {
     "data": {
      "image/png": "[encoded data removed]",
      "text/plain": [
       "<Figure size 432x288 with 1 Axes>"
      ]
     },
     "metadata": {},
     "output_type": "display_data"
    }
   ],
   "source": [
    "plt.hist(rf_results2)\n",
    "print(np.mean(rf_results2))"
   ]
  },
  {
   "cell_type": "code",
   "execution_count": 14,
   "metadata": {
    "scrolled": true
   },
   "outputs": [
    {
     "data": {
      "text/plain": [
       "(array([  12.,   51.,  196.,  293.,  177.,   66.,    4.,    1.]),\n",
       " array([ 3855322.51576072,  4046612.5942627 ,  4237902.67276468,\n",
       "         4429192.75126666,  4620482.82976864,  4811772.90827062,\n",
       "         5003062.98677259,  5194353.06527457,  5385643.14377655]),\n",
       " <a list of 8 Patch objects>)"
      ]
     },
     "execution_count": 14,
     "metadata": {},
     "output_type": "execute_result"
    },
    {
     "data": {
      "image/png": "[encoded data removed]",
      "text/plain": [
       "<Figure size 432x288 with 1 Axes>"
      ]
     },
     "metadata": {},
     "output_type": "display_data"
    }
   ],
   "source": [
    "plt.hist(rf_results1, alpha=0.4, color=\"red\", bins=8)\n",
    "plt.hist(rf_results2, alpha=0.4, color=\"blue\", bins=8)"
   ]
  },
  {
   "cell_type": "markdown",
   "metadata": {},
   "source": [
    "此步驟將會耗時約一小時"
   ]
  },
  {
   "cell_type": "code",
   "execution_count": 15,
   "metadata": {},
   "outputs": [
    {
     "name": "stdout",
     "output_type": "stream",
     "text": [
      "5  done.\n",
      "7  done.\n",
      "9  done.\n",
      "11  done.\n",
      "13  done.\n",
      "16  done.\n",
      "21  done.\n",
      "26  done.\n",
      "31  done.\n",
      "36  done.\n",
      "41  done.\n",
      "46  done.\n",
      "50  done.\n",
      "65  done.\n",
      "80  done.\n",
      "95  done.\n",
      "101  done.\n",
      "131  done.\n",
      "161  done.\n",
      "191  done.\n",
      "221  done.\n",
      "251  done.\n",
      "281  done.\n"
     ]
    }
   ],
   "source": [
    "# use different step size for different tree number range. (to save time and to demonstrate the trend)\n",
    "xvals = []\n",
    "yvals = []\n",
    "for i in range(5, 15, 2):\n",
    "    xvals.append(i)\n",
    "    yvals.append(np.mean([runRF(i) for _ in range(100)]))\n",
    "    print(i, \" done.\")\n",
    "\n",
    "for i in range(16, 50, 5):\n",
    "    xvals.append(i)\n",
    "    yvals.append(np.mean([runRF(i) for _ in range(100)]))\n",
    "    print(i, \" done.\")\n",
    "\n",
    "for i in range(50, 100, 15):\n",
    "    xvals.append(i)\n",
    "    yvals.append(np.mean([runRF(i) for _ in range(100)]))\n",
    "    print(i, \" done.\")\n",
    "\n",
    "for i in range(101, 300, 30):\n",
    "    xvals.append(i)\n",
    "    yvals.append(np.mean([runRF(i) for _ in range(100)]))\n",
    "    print(i, \" done.\")"
   ]
  },
  {
   "cell_type": "code",
   "execution_count": 17,
   "metadata": {},
   "outputs": [
    {
     "name": "stdout",
     "output_type": "stream",
     "text": [
      "number of tree v.s RMSE\n"
     ]
    },
    {
     "data": {
      "text/plain": [
       "[<matplotlib.lines.Line2D at 0x10cefaeb8>]"
      ]
     },
     "execution_count": 17,
     "metadata": {},
     "output_type": "execute_result"
    },
    {
     "data": {
      "image/png": "[encoded data removed]",
      "text/plain": [
       "<Figure size 432x288 with 1 Axes>"
      ]
     },
     "metadata": {},
     "output_type": "display_data"
    }
   ],
   "source": [
    "print(\"number of tree v.s RMSE\")\n",
    "plt.plot(xvals, yvals)"
   ]
  },
  {
   "cell_type": "code",
   "execution_count": 18,
   "metadata": {},
   "outputs": [
    {
     "data": {
      "image/png": "[encoded data removed]",
      "text/plain": [
       "<Figure size 432x288 with 1 Axes>"
      ]
     },
     "metadata": {},
     "output_type": "display_data"
    }
   ],
   "source": [
    "def show_importance():\n",
    "    regr = RandomForestRegressor(n_estimators=100)\n",
    "    regr.fit(pd.DataFrame(df, columns=features),\n",
    "             np.ravel(pd.DataFrame(df, columns=[\"Salary\"])))\n",
    "    importances = list(regr.feature_importances_)\n",
    "    feature_importances = [(feature, round(importance, 2)) for feature, importance in zip(features, importances)]\n",
    "    feature_importances = sorted(feature_importances, key = lambda x: x[1], reverse = True)\n",
    "    #[print('Variable: {:20} Importance: {}'.format(*pair)) for pair in feature_importances];\n",
    "    x_values = list(range(len(importances)))\n",
    "    plt.bar(x_values, importances, orientation = 'vertical')\n",
    "    plt.xticks(x_values, features, rotation = 'vertical')\n",
    "show_importance()"
   ]
  },
  {
   "cell_type": "code",
   "execution_count": 19,
   "metadata": {
    "collapsed": true
   },
   "outputs": [],
   "source": [
    "\n",
    "def make_prediction(feature_arr):\n",
    "    assert len(feature_arr) == len(features)\n",
    "    X = pd.DataFrame([feature_arr])\n",
    "    lm = linear_model.LinearRegression()\n",
    "    model = lm.fit(pd.DataFrame(df, columns=features),\n",
    "                   pd.DataFrame(df, columns=[\"Salary\"]))\n",
    "    if with_log_transformation:\n",
    "        return np.exp(lm.predict(X)[0][0])\n",
    "    else:\n",
    "        return (lm.predict(X)[0][0])\n"
   ]
  },
  {
   "cell_type": "code",
   "execution_count": 25,
   "metadata": {},
   "outputs": [
    {
     "data": {
      "text/plain": [
       "3785619.6042857012"
      ]
     },
     "execution_count": 25,
     "metadata": {},
     "output_type": "execute_result"
    }
   ],
   "source": [
    "# usage example:\n",
    "\n",
    "make_prediction(pd.DataFrame(df, columns = features).iloc[0].values)"
   ]
  }
 ],
 "metadata": {
  "celltoolbar": "Raw Cell Format",
  "kernelspec": {
   "display_name": "Python 3",
   "language": "python",
   "name": "python3"
  },
  "language_info": {
   "codemirror_mode": {
    "name": "ipython",
    "version": 3
   },
   "file_extension": ".py",
   "mimetype": "text/x-python",
   "name": "python",
   "nbconvert_exporter": "python",
   "pygments_lexer": "ipython3",
   "version": "3.6.4"
  }
 },
 "nbformat": 4,
 "nbformat_minor": 2
}
